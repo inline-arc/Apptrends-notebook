{
 "cells": [
  {
   "cell_type": "code",
   "execution_count": 1,
   "id": "a7739a23",
   "metadata": {},
   "outputs": [],
   "source": [
    "import pandas as pd\n",
    "from matplotlib import pyplot as plt\n",
    "import  sys\n",
    "import numpy as np\n",
    "import seaborn as sns "
   ]
  },
  {
   "cell_type": "code",
   "execution_count": 3,
   "id": "78d8a6bd",
   "metadata": {},
   "outputs": [],
   "source": [
    "data = pd.read_csv('/home/linux/dataset/apps.csv')"
   ]
  },
  {
   "cell_type": "code",
   "execution_count": 4,
   "id": "48c52012",
   "metadata": {},
   "outputs": [
    {
     "data": {
      "text/plain": [
       "pandas.core.frame.DataFrame"
      ]
     },
     "execution_count": 4,
     "metadata": {},
     "output_type": "execute_result"
    }
   ],
   "source": [
    "type(data)"
   ]
  },
  {
   "cell_type": "code",
   "execution_count": 87,
   "id": "8d83cc37",
   "metadata": {},
   "outputs": [
    {
     "name": "stdout",
     "output_type": "stream",
     "text": [
      "<class 'pandas.core.frame.DataFrame'>\n",
      "RangeIndex: 9659 entries, 0 to 9658\n",
      "Data columns (total 9 columns):\n",
      " #   Column        Non-Null Count  Dtype  \n",
      "---  ------        --------------  -----  \n",
      " 0   App           9659 non-null   object \n",
      " 1   Category      9659 non-null   object \n",
      " 2   Rating        8196 non-null   float64\n",
      " 3   Reviews       9659 non-null   int64  \n",
      " 4   Size          8432 non-null   float64\n",
      " 5   Installs      9659 non-null   object \n",
      " 6   Type          9659 non-null   object \n",
      " 7   Price         9659 non-null   float64\n",
      " 8   Last Updated  9659 non-null   object \n",
      "dtypes: float64(3), int64(1), object(5)\n",
      "memory usage: 679.3+ KB\n"
     ]
    }
   ],
   "source": [
    "data.info()"
   ]
  },
  {
   "cell_type": "code",
   "execution_count": 6,
   "id": "aad210d4",
   "metadata": {},
   "outputs": [
    {
     "data": {
      "text/html": [
       "<div>\n",
       "<style scoped>\n",
       "    .dataframe tbody tr th:only-of-type {\n",
       "        vertical-align: middle;\n",
       "    }\n",
       "\n",
       "    .dataframe tbody tr th {\n",
       "        vertical-align: top;\n",
       "    }\n",
       "\n",
       "    .dataframe thead th {\n",
       "        text-align: right;\n",
       "    }\n",
       "</style>\n",
       "<table border=\"1\" class=\"dataframe\">\n",
       "  <thead>\n",
       "    <tr style=\"text-align: right;\">\n",
       "      <th></th>\n",
       "      <th>App</th>\n",
       "      <th>Category</th>\n",
       "      <th>Rating</th>\n",
       "      <th>Reviews</th>\n",
       "      <th>Size</th>\n",
       "      <th>Installs</th>\n",
       "      <th>Type</th>\n",
       "      <th>Price</th>\n",
       "      <th>Last Updated</th>\n",
       "    </tr>\n",
       "  </thead>\n",
       "  <tbody>\n",
       "    <tr>\n",
       "      <th>0</th>\n",
       "      <td>Photo Editor &amp; Candy Camera &amp; Grid &amp; ScrapBook</td>\n",
       "      <td>ART_AND_DESIGN</td>\n",
       "      <td>4.1</td>\n",
       "      <td>159</td>\n",
       "      <td>19.0</td>\n",
       "      <td>10,000+</td>\n",
       "      <td>Free</td>\n",
       "      <td>0.0</td>\n",
       "      <td>January 7, 2018</td>\n",
       "    </tr>\n",
       "    <tr>\n",
       "      <th>1</th>\n",
       "      <td>Coloring book moana</td>\n",
       "      <td>ART_AND_DESIGN</td>\n",
       "      <td>3.9</td>\n",
       "      <td>967</td>\n",
       "      <td>14.0</td>\n",
       "      <td>500,000+</td>\n",
       "      <td>Free</td>\n",
       "      <td>0.0</td>\n",
       "      <td>January 15, 2018</td>\n",
       "    </tr>\n",
       "    <tr>\n",
       "      <th>2</th>\n",
       "      <td>U Launcher Lite – FREE Live Cool Themes, Hide ...</td>\n",
       "      <td>ART_AND_DESIGN</td>\n",
       "      <td>4.7</td>\n",
       "      <td>87510</td>\n",
       "      <td>8.7</td>\n",
       "      <td>5,000,000+</td>\n",
       "      <td>Free</td>\n",
       "      <td>0.0</td>\n",
       "      <td>August 1, 2018</td>\n",
       "    </tr>\n",
       "    <tr>\n",
       "      <th>3</th>\n",
       "      <td>Sketch - Draw &amp; Paint</td>\n",
       "      <td>ART_AND_DESIGN</td>\n",
       "      <td>4.5</td>\n",
       "      <td>215644</td>\n",
       "      <td>25.0</td>\n",
       "      <td>50,000,000+</td>\n",
       "      <td>Free</td>\n",
       "      <td>0.0</td>\n",
       "      <td>June 8, 2018</td>\n",
       "    </tr>\n",
       "    <tr>\n",
       "      <th>4</th>\n",
       "      <td>Pixel Draw - Number Art Coloring Book</td>\n",
       "      <td>ART_AND_DESIGN</td>\n",
       "      <td>4.3</td>\n",
       "      <td>967</td>\n",
       "      <td>2.8</td>\n",
       "      <td>100,000+</td>\n",
       "      <td>Free</td>\n",
       "      <td>0.0</td>\n",
       "      <td>June 20, 2018</td>\n",
       "    </tr>\n",
       "    <tr>\n",
       "      <th>5</th>\n",
       "      <td>Paper flowers instructions</td>\n",
       "      <td>ART_AND_DESIGN</td>\n",
       "      <td>4.4</td>\n",
       "      <td>167</td>\n",
       "      <td>5.6</td>\n",
       "      <td>50,000+</td>\n",
       "      <td>Free</td>\n",
       "      <td>0.0</td>\n",
       "      <td>March 26, 2017</td>\n",
       "    </tr>\n",
       "    <tr>\n",
       "      <th>6</th>\n",
       "      <td>Smoke Effect Photo Maker - Smoke Editor</td>\n",
       "      <td>ART_AND_DESIGN</td>\n",
       "      <td>3.8</td>\n",
       "      <td>178</td>\n",
       "      <td>19.0</td>\n",
       "      <td>50,000+</td>\n",
       "      <td>Free</td>\n",
       "      <td>0.0</td>\n",
       "      <td>April 26, 2018</td>\n",
       "    </tr>\n",
       "    <tr>\n",
       "      <th>7</th>\n",
       "      <td>Infinite Painter</td>\n",
       "      <td>ART_AND_DESIGN</td>\n",
       "      <td>4.1</td>\n",
       "      <td>36815</td>\n",
       "      <td>29.0</td>\n",
       "      <td>1,000,000+</td>\n",
       "      <td>Free</td>\n",
       "      <td>0.0</td>\n",
       "      <td>June 14, 2018</td>\n",
       "    </tr>\n",
       "    <tr>\n",
       "      <th>8</th>\n",
       "      <td>Garden Coloring Book</td>\n",
       "      <td>ART_AND_DESIGN</td>\n",
       "      <td>4.4</td>\n",
       "      <td>13791</td>\n",
       "      <td>33.0</td>\n",
       "      <td>1,000,000+</td>\n",
       "      <td>Free</td>\n",
       "      <td>0.0</td>\n",
       "      <td>September 20, 2017</td>\n",
       "    </tr>\n",
       "    <tr>\n",
       "      <th>9</th>\n",
       "      <td>Kids Paint Free - Drawing Fun</td>\n",
       "      <td>ART_AND_DESIGN</td>\n",
       "      <td>4.7</td>\n",
       "      <td>121</td>\n",
       "      <td>3.1</td>\n",
       "      <td>10,000+</td>\n",
       "      <td>Free</td>\n",
       "      <td>0.0</td>\n",
       "      <td>July 3, 2018</td>\n",
       "    </tr>\n",
       "  </tbody>\n",
       "</table>\n",
       "</div>"
      ],
      "text/plain": [
       "                                                 App        Category  Rating  \\\n",
       "0     Photo Editor & Candy Camera & Grid & ScrapBook  ART_AND_DESIGN     4.1   \n",
       "1                                Coloring book moana  ART_AND_DESIGN     3.9   \n",
       "2  U Launcher Lite – FREE Live Cool Themes, Hide ...  ART_AND_DESIGN     4.7   \n",
       "3                              Sketch - Draw & Paint  ART_AND_DESIGN     4.5   \n",
       "4              Pixel Draw - Number Art Coloring Book  ART_AND_DESIGN     4.3   \n",
       "5                         Paper flowers instructions  ART_AND_DESIGN     4.4   \n",
       "6            Smoke Effect Photo Maker - Smoke Editor  ART_AND_DESIGN     3.8   \n",
       "7                                   Infinite Painter  ART_AND_DESIGN     4.1   \n",
       "8                               Garden Coloring Book  ART_AND_DESIGN     4.4   \n",
       "9                      Kids Paint Free - Drawing Fun  ART_AND_DESIGN     4.7   \n",
       "\n",
       "   Reviews  Size     Installs  Type  Price        Last Updated  \n",
       "0      159  19.0      10,000+  Free    0.0     January 7, 2018  \n",
       "1      967  14.0     500,000+  Free    0.0    January 15, 2018  \n",
       "2    87510   8.7   5,000,000+  Free    0.0      August 1, 2018  \n",
       "3   215644  25.0  50,000,000+  Free    0.0        June 8, 2018  \n",
       "4      967   2.8     100,000+  Free    0.0       June 20, 2018  \n",
       "5      167   5.6      50,000+  Free    0.0      March 26, 2017  \n",
       "6      178  19.0      50,000+  Free    0.0      April 26, 2018  \n",
       "7    36815  29.0   1,000,000+  Free    0.0       June 14, 2018  \n",
       "8    13791  33.0   1,000,000+  Free    0.0  September 20, 2017  \n",
       "9      121   3.1      10,000+  Free    0.0        July 3, 2018  "
      ]
     },
     "execution_count": 6,
     "metadata": {},
     "output_type": "execute_result"
    }
   ],
   "source": [
    "data.head(10)"
   ]
  },
  {
   "cell_type": "code",
   "execution_count": 7,
   "id": "244be1c4",
   "metadata": {},
   "outputs": [
    {
     "data": {
      "text/plain": [
       "Index(['App', 'Category', 'Rating', 'Reviews', 'Size', 'Installs', 'Type',\n",
       "       'Price', 'Last Updated'],\n",
       "      dtype='object')"
      ]
     },
     "execution_count": 7,
     "metadata": {},
     "output_type": "execute_result"
    }
   ],
   "source": [
    "data.columns"
   ]
  },
  {
   "cell_type": "markdown",
   "id": "4d83768e",
   "metadata": {},
   "source": [
    "## data analysis of app on playstore "
   ]
  },
  {
   "cell_type": "code",
   "execution_count": 8,
   "id": "efd00467",
   "metadata": {},
   "outputs": [
    {
     "data": {
      "text/plain": [
       "(9659, 9)"
      ]
     },
     "execution_count": 8,
     "metadata": {},
     "output_type": "execute_result"
    }
   ],
   "source": [
    "data.shape"
   ]
  },
  {
   "cell_type": "code",
   "execution_count": 23,
   "id": "80533bc9",
   "metadata": {},
   "outputs": [
    {
     "data": {
      "text/html": [
       "<div>\n",
       "<style scoped>\n",
       "    .dataframe tbody tr th:only-of-type {\n",
       "        vertical-align: middle;\n",
       "    }\n",
       "\n",
       "    .dataframe tbody tr th {\n",
       "        vertical-align: top;\n",
       "    }\n",
       "\n",
       "    .dataframe thead th {\n",
       "        text-align: right;\n",
       "    }\n",
       "</style>\n",
       "<table border=\"1\" class=\"dataframe\">\n",
       "  <thead>\n",
       "    <tr style=\"text-align: right;\">\n",
       "      <th></th>\n",
       "      <th>App</th>\n",
       "      <th>Price</th>\n",
       "      <th>Rating</th>\n",
       "    </tr>\n",
       "    <tr>\n",
       "      <th>Category</th>\n",
       "      <th></th>\n",
       "      <th></th>\n",
       "      <th></th>\n",
       "    </tr>\n",
       "  </thead>\n",
       "  <tbody>\n",
       "    <tr>\n",
       "      <th>ART_AND_DESIGN</th>\n",
       "      <td>64</td>\n",
       "      <td>0.093281</td>\n",
       "      <td>4.357377</td>\n",
       "    </tr>\n",
       "    <tr>\n",
       "      <th>AUTO_AND_VEHICLES</th>\n",
       "      <td>85</td>\n",
       "      <td>0.158471</td>\n",
       "      <td>4.190411</td>\n",
       "    </tr>\n",
       "    <tr>\n",
       "      <th>BEAUTY</th>\n",
       "      <td>53</td>\n",
       "      <td>0.000000</td>\n",
       "      <td>4.278571</td>\n",
       "    </tr>\n",
       "    <tr>\n",
       "      <th>BOOKS_AND_REFERENCE</th>\n",
       "      <td>222</td>\n",
       "      <td>0.539505</td>\n",
       "      <td>4.344970</td>\n",
       "    </tr>\n",
       "    <tr>\n",
       "      <th>BUSINESS</th>\n",
       "      <td>420</td>\n",
       "      <td>0.417357</td>\n",
       "      <td>4.098479</td>\n",
       "    </tr>\n",
       "    <tr>\n",
       "      <th>COMICS</th>\n",
       "      <td>56</td>\n",
       "      <td>0.000000</td>\n",
       "      <td>4.181481</td>\n",
       "    </tr>\n",
       "    <tr>\n",
       "      <th>COMMUNICATION</th>\n",
       "      <td>315</td>\n",
       "      <td>0.263937</td>\n",
       "      <td>4.121484</td>\n",
       "    </tr>\n",
       "    <tr>\n",
       "      <th>DATING</th>\n",
       "      <td>171</td>\n",
       "      <td>0.160468</td>\n",
       "      <td>3.970149</td>\n",
       "    </tr>\n",
       "    <tr>\n",
       "      <th>EDUCATION</th>\n",
       "      <td>119</td>\n",
       "      <td>0.150924</td>\n",
       "      <td>4.364407</td>\n",
       "    </tr>\n",
       "    <tr>\n",
       "      <th>ENTERTAINMENT</th>\n",
       "      <td>102</td>\n",
       "      <td>0.078235</td>\n",
       "      <td>4.135294</td>\n",
       "    </tr>\n",
       "    <tr>\n",
       "      <th>EVENTS</th>\n",
       "      <td>64</td>\n",
       "      <td>1.718594</td>\n",
       "      <td>4.435556</td>\n",
       "    </tr>\n",
       "    <tr>\n",
       "      <th>FAMILY</th>\n",
       "      <td>1832</td>\n",
       "      <td>1.309967</td>\n",
       "      <td>4.179664</td>\n",
       "    </tr>\n",
       "    <tr>\n",
       "      <th>FINANCE</th>\n",
       "      <td>345</td>\n",
       "      <td>8.408203</td>\n",
       "      <td>4.115563</td>\n",
       "    </tr>\n",
       "    <tr>\n",
       "      <th>FOOD_AND_DRINK</th>\n",
       "      <td>112</td>\n",
       "      <td>0.075714</td>\n",
       "      <td>4.172340</td>\n",
       "    </tr>\n",
       "    <tr>\n",
       "      <th>GAME</th>\n",
       "      <td>959</td>\n",
       "      <td>0.296465</td>\n",
       "      <td>4.247368</td>\n",
       "    </tr>\n",
       "    <tr>\n",
       "      <th>HEALTH_AND_FITNESS</th>\n",
       "      <td>288</td>\n",
       "      <td>0.223438</td>\n",
       "      <td>4.243033</td>\n",
       "    </tr>\n",
       "    <tr>\n",
       "      <th>HOUSE_AND_HOME</th>\n",
       "      <td>74</td>\n",
       "      <td>0.000000</td>\n",
       "      <td>4.150000</td>\n",
       "    </tr>\n",
       "    <tr>\n",
       "      <th>LIBRARIES_AND_DEMO</th>\n",
       "      <td>84</td>\n",
       "      <td>0.011786</td>\n",
       "      <td>4.178125</td>\n",
       "    </tr>\n",
       "    <tr>\n",
       "      <th>LIFESTYLE</th>\n",
       "      <td>369</td>\n",
       "      <td>6.398022</td>\n",
       "      <td>4.093355</td>\n",
       "    </tr>\n",
       "    <tr>\n",
       "      <th>MAPS_AND_NAVIGATION</th>\n",
       "      <td>131</td>\n",
       "      <td>0.205725</td>\n",
       "      <td>4.036441</td>\n",
       "    </tr>\n",
       "    <tr>\n",
       "      <th>MEDICAL</th>\n",
       "      <td>395</td>\n",
       "      <td>2.520759</td>\n",
       "      <td>4.166552</td>\n",
       "    </tr>\n",
       "    <tr>\n",
       "      <th>NEWS_AND_MAGAZINES</th>\n",
       "      <td>254</td>\n",
       "      <td>0.015669</td>\n",
       "      <td>4.121569</td>\n",
       "    </tr>\n",
       "    <tr>\n",
       "      <th>PARENTING</th>\n",
       "      <td>60</td>\n",
       "      <td>0.159667</td>\n",
       "      <td>4.300000</td>\n",
       "    </tr>\n",
       "    <tr>\n",
       "      <th>PERSONALIZATION</th>\n",
       "      <td>376</td>\n",
       "      <td>0.400213</td>\n",
       "      <td>4.332215</td>\n",
       "    </tr>\n",
       "    <tr>\n",
       "      <th>PHOTOGRAPHY</th>\n",
       "      <td>281</td>\n",
       "      <td>0.420925</td>\n",
       "      <td>4.157414</td>\n",
       "    </tr>\n",
       "    <tr>\n",
       "      <th>PRODUCTIVITY</th>\n",
       "      <td>374</td>\n",
       "      <td>0.670936</td>\n",
       "      <td>4.183389</td>\n",
       "    </tr>\n",
       "    <tr>\n",
       "      <th>SHOPPING</th>\n",
       "      <td>202</td>\n",
       "      <td>0.027129</td>\n",
       "      <td>4.230000</td>\n",
       "    </tr>\n",
       "    <tr>\n",
       "      <th>SOCIAL</th>\n",
       "      <td>239</td>\n",
       "      <td>0.066820</td>\n",
       "      <td>4.247291</td>\n",
       "    </tr>\n",
       "    <tr>\n",
       "      <th>SPORTS</th>\n",
       "      <td>325</td>\n",
       "      <td>0.307692</td>\n",
       "      <td>4.216154</td>\n",
       "    </tr>\n",
       "    <tr>\n",
       "      <th>TOOLS</th>\n",
       "      <td>827</td>\n",
       "      <td>0.323156</td>\n",
       "      <td>4.039554</td>\n",
       "    </tr>\n",
       "    <tr>\n",
       "      <th>TRAVEL_AND_LOCAL</th>\n",
       "      <td>219</td>\n",
       "      <td>0.228082</td>\n",
       "      <td>4.069519</td>\n",
       "    </tr>\n",
       "    <tr>\n",
       "      <th>VIDEO_PLAYERS</th>\n",
       "      <td>163</td>\n",
       "      <td>0.064172</td>\n",
       "      <td>4.044595</td>\n",
       "    </tr>\n",
       "    <tr>\n",
       "      <th>WEATHER</th>\n",
       "      <td>79</td>\n",
       "      <td>0.410380</td>\n",
       "      <td>4.243056</td>\n",
       "    </tr>\n",
       "  </tbody>\n",
       "</table>\n",
       "</div>"
      ],
      "text/plain": [
       "                      App     Price    Rating\n",
       "Category                                     \n",
       "ART_AND_DESIGN         64  0.093281  4.357377\n",
       "AUTO_AND_VEHICLES      85  0.158471  4.190411\n",
       "BEAUTY                 53  0.000000  4.278571\n",
       "BOOKS_AND_REFERENCE   222  0.539505  4.344970\n",
       "BUSINESS              420  0.417357  4.098479\n",
       "COMICS                 56  0.000000  4.181481\n",
       "COMMUNICATION         315  0.263937  4.121484\n",
       "DATING                171  0.160468  3.970149\n",
       "EDUCATION             119  0.150924  4.364407\n",
       "ENTERTAINMENT         102  0.078235  4.135294\n",
       "EVENTS                 64  1.718594  4.435556\n",
       "FAMILY               1832  1.309967  4.179664\n",
       "FINANCE               345  8.408203  4.115563\n",
       "FOOD_AND_DRINK        112  0.075714  4.172340\n",
       "GAME                  959  0.296465  4.247368\n",
       "HEALTH_AND_FITNESS    288  0.223438  4.243033\n",
       "HOUSE_AND_HOME         74  0.000000  4.150000\n",
       "LIBRARIES_AND_DEMO     84  0.011786  4.178125\n",
       "LIFESTYLE             369  6.398022  4.093355\n",
       "MAPS_AND_NAVIGATION   131  0.205725  4.036441\n",
       "MEDICAL               395  2.520759  4.166552\n",
       "NEWS_AND_MAGAZINES    254  0.015669  4.121569\n",
       "PARENTING              60  0.159667  4.300000\n",
       "PERSONALIZATION       376  0.400213  4.332215\n",
       "PHOTOGRAPHY           281  0.420925  4.157414\n",
       "PRODUCTIVITY          374  0.670936  4.183389\n",
       "SHOPPING              202  0.027129  4.230000\n",
       "SOCIAL                239  0.066820  4.247291\n",
       "SPORTS                325  0.307692  4.216154\n",
       "TOOLS                 827  0.323156  4.039554\n",
       "TRAVEL_AND_LOCAL      219  0.228082  4.069519\n",
       "VIDEO_PLAYERS         163  0.064172  4.044595\n",
       "WEATHER                79  0.410380  4.243056"
      ]
     },
     "execution_count": 23,
     "metadata": {},
     "output_type": "execute_result"
    }
   ],
   "source": [
    "app_category_info = data.groupby('Category').agg({'App':'count','Price':'mean','Rating':'mean'})\n",
    "app_category_info"
   ]
  },
  {
   "cell_type": "markdown",
   "id": "66efc692",
   "metadata": {},
   "source": [
    "## PLOTS"
   ]
  },
  {
   "cell_type": "code",
   "execution_count": 41,
   "id": "7fa756ac",
   "metadata": {},
   "outputs": [],
   "source": [
    "condition = (data['Type']== 'Free') & (data[\"Rating\"])"
   ]
  },
  {
   "cell_type": "code",
   "execution_count": 46,
   "id": "f4f77cbe",
   "metadata": {},
   "outputs": [
    {
     "data": {
      "text/plain": [
       "<AxesSubplot:>"
      ]
     },
     "execution_count": 46,
     "metadata": {},
     "output_type": "execute_result"
    },
    {
     "data": {
      "image/png": "[encoded data removed]",
      "text/plain": [
       "<Figure size 432x288 with 1 Axes>"
      ]
     },
     "metadata": {
      "needs_background": "light"
     },
     "output_type": "display_data"
    }
   ],
   "source": [
    "free_finance_apps = data[(condition)]\n",
    "free_finance_apps.plot()"
   ]
  },
  {
   "cell_type": "code",
   "execution_count": 76,
   "id": "109b0b6b",
   "metadata": {},
   "outputs": [
    {
     "data": {
      "text/plain": [
       "<AxesSubplot:>"
      ]
     },
     "execution_count": 76,
     "metadata": {},
     "output_type": "execute_result"
    },
    {
     "data": {
      "image/png": "[encoded data removed]",
      "text/plain": [
       "<Figure size 960x800 with 2 Axes>"
      ]
     },
     "metadata": {
      "needs_background": "light"
     },
     "output_type": "display_data"
    }
   ],
   "source": [
    "\n",
    "plt.figure(figsize=(12,10), dpi= 80)\n",
    "sns.heatmap(data.corr(), xticklabels=data.corr().columns, yticklabels=data.corr().columns, cmap='RdYlGn', center=0, annot=True)"
   ]
  },
  {
   "cell_type": "code",
   "execution_count": 66,
   "id": "9f04e000",
   "metadata": {},
   "outputs": [
    {
     "data": {
      "text/plain": [
       "(array([  17.,    6.,   12.,   31.,   42.,   39.,   87.,  195.,  163.,\n",
       "         449.,  869., 1134., 2602., 1973.,  577.]),\n",
       " array([1.        , 1.26666667, 1.53333333, 1.8       , 2.06666667,\n",
       "        2.33333333, 2.6       , 2.86666667, 3.13333333, 3.4       ,\n",
       "        3.66666667, 3.93333333, 4.2       , 4.46666667, 4.73333333,\n",
       "        5.        ]),\n",
       " <BarContainer object of 15 artists>)"
      ]
     },
     "execution_count": 66,
     "metadata": {},
     "output_type": "execute_result"
    },
    {
     "data": {
      "image/png": "[encoded data removed]",
      "text/plain": [
       "<Figure size 432x288 with 1 Axes>"
      ]
     },
     "metadata": {
      "needs_background": "light"
     },
     "output_type": "display_data"
    }
   ],
   "source": [
    "plt.hist(data['Rating'],rwidth=0.9,alpha=0.3,color='blue',bins=15,edgecolor='red') "
   ]
  },
  {
   "cell_type": "code",
   "execution_count": 96,
   "id": "3a6b7760",
   "metadata": {},
   "outputs": [
    {
     "data": {
      "text/plain": [
       "0       4.1\n",
       "1       3.9\n",
       "2       4.7\n",
       "3       4.5\n",
       "4       4.3\n",
       "       ... \n",
       "9654    4.5\n",
       "9655    5.0\n",
       "9656    NaN\n",
       "9657    4.5\n",
       "9658    4.5\n",
       "Name: Rating, Length: 9659, dtype: float64"
      ]
     },
     "execution_count": 96,
     "metadata": {},
     "output_type": "execute_result"
    }
   ],
   "source": [
    "rates = data.Rating\n",
    "rates"
   ]
  },
  {
   "cell_type": "code",
   "execution_count": null,
   "id": "d977f885",
   "metadata": {},
   "outputs": [],
   "source": []
  },
  {
   "cell_type": "code",
   "execution_count": null,
   "id": "bb2e562c",
   "metadata": {},
   "outputs": [],
   "source": []
  }
 ],
 "metadata": {
  "kernelspec": {
   "display_name": "Python 3 (ipykernel)",
   "language": "python",
   "name": "python3"
  },
  "language_info": {
   "codemirror_mode": {
    "name": "ipython",
    "version": 3
   },
   "file_extension": ".py",
   "mimetype": "text/x-python",
   "name": "python",
   "nbconvert_exporter": "python",
   "pygments_lexer": "ipython3",
   "version": "3.9.7"
  }
 },
 "nbformat": 4,
 "nbformat_minor": 5
}
